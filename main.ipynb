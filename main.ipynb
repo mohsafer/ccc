{
 "cells": [
  {
   "cell_type": "markdown",
   "id": "mathematical-petite",
   "metadata": {},
   "source": [
    "# Import the required functions and classifiers"
   ]
  },
  {
   "cell_type": "markdown",
   "id": "light-absolute",
   "metadata": {},
   "source": [
    "### Import all classifiers"
   ]
  },
  {
   "cell_type": "code",
   "execution_count": null,
   "id": "metallic-marathon",
   "metadata": {},
   "outputs": [],
   "source": [
    "from classifiers import *"
   ]
  },
  {
   "cell_type": "markdown",
   "id": "optical-trick",
   "metadata": {},
   "source": [
    "### Import load_data funtion to load the dataset"
   ]
  },
  {
   "cell_type": "code",
   "execution_count": null,
   "id": "continent-stations",
   "metadata": {},
   "outputs": [],
   "source": [
    "from utils.utils import load_data, plot"
   ]
  },
  {
   "cell_type": "code",
   "execution_count": null,
   "id": "closing-feedback",
   "metadata": {},
   "outputs": [],
   "source": [
    "from sklearn.preprocessing import OneHotEncoder"
   ]
  },
  {
   "cell_type": "code",
   "execution_count": null,
   "id": "planned-division",
   "metadata": {},
   "outputs": [],
   "source": [
    "import numpy as np"
   ]
  },
  {
   "cell_type": "code",
   "execution_count": null,
   "id": "knowing-contributor",
   "metadata": {},
   "outputs": [],
   "source": [
    "from tensorflow.config import run_functions_eagerly\n",
    "run_functions_eagerly(True)"
   ]
  },
  {
   "cell_type": "markdown",
   "id": "banner-lawrence",
   "metadata": {},
   "source": [
    "# Load dataset"
   ]
  },
  {
   "cell_type": "code",
   "execution_count": null,
   "id": "incident-western",
   "metadata": {},
   "outputs": [],
   "source": [
    "x_train, x_test, x_val, y_train, y_test, y_val = load_data(\"dataset\", (0.7, 0.2, 0.1))"
   ]
  },
  {
   "cell_type": "markdown",
   "id": "spanish-vegetarian",
   "metadata": {},
   "source": [
    "## Encode classes as a one-hot numeric array"
   ]
  },
  {
   "cell_type": "code",
   "execution_count": null,
   "id": "mysterious-stake",
   "metadata": {},
   "outputs": [],
   "source": [
    "enc = OneHotEncoder(categories='auto')\n",
    "enc.fit(np.concatenate((y_train, y_test), axis=0).reshape(-1, 1))\n",
    "y_train_enc = enc.transform(y_train.reshape(-1, 1)).toarray()\n",
    "y_test_enc = enc.transform(y_test.reshape(-1, 1)).toarray()\n",
    "y_true = np.argmax(y_test, axis=1)"
   ]
  },
  {
   "cell_type": "markdown",
   "id": "extreme-google",
   "metadata": {},
   "source": [
    "# Training"
   ]
  },
  {
   "cell_type": "markdown",
   "id": "immune-radio",
   "metadata": {},
   "source": [
    "## ResNet"
   ]
  },
  {
   "cell_type": "code",
   "execution_count": null,
   "id": "mental-hawaii",
   "metadata": {},
   "outputs": [],
   "source": [
    "model = resnet.ResNet(2)\n",
    "model.compile(loss='sparse_categorical_crossentropy', optimizer='adam', metrics=['accuracy'])\n",
    "history = model.fit(x_train, y_train, epochs=500, batch_size=int(min(x_train.shape[0] / 10, 64)), validation_data=(x_val, y_val))"
   ]
  },
  {
   "cell_type": "code",
   "execution_count": null,
   "id": "beginning-style",
   "metadata": {},
   "outputs": [],
   "source": [
    "plot(history)"
   ]
  },
  {
   "cell_type": "markdown",
   "id": "destroyed-klein",
   "metadata": {},
   "source": [
    "## Encoder"
   ]
  },
  {
   "cell_type": "code",
   "execution_count": null,
   "id": "prostate-acquisition",
   "metadata": {},
   "outputs": [],
   "source": [
    "model = encoder.Encoder((60, 23), 2).model\n",
    "history = model.fit(x_train, y_train, epochs=100, batch_size=12, validation_data=(x_val, y_val))"
   ]
  },
  {
   "cell_type": "code",
   "execution_count": null,
   "id": "missing-shelf",
   "metadata": {},
   "outputs": [],
   "source": [
    "plot(history)"
   ]
  },
  {
   "cell_type": "markdown",
   "id": "front-murray",
   "metadata": {},
   "source": [
    "## Inception"
   ]
  },
  {
   "cell_type": "code",
   "execution_count": null,
   "id": "checked-connecticut",
   "metadata": {},
   "outputs": [],
   "source": [
    "model = inception.Inception(2)\n",
    "model.compile(loss='sparse_categorical_crossentropy', optimizer='adam', metrics=['accuracy'])\n",
    "history = model.fit(x_train, y_train, epochs=1000, batch_size=int(min(x_train.shape[0] / 10, 16)), validation_data=(x_val, y_val))"
   ]
  },
  {
   "cell_type": "code",
   "execution_count": null,
   "id": "crucial-viewer",
   "metadata": {},
   "outputs": [],
   "source": [
    "plot(history)"
   ]
  },
  {
   "cell_type": "markdown",
   "id": "sustainable-customer",
   "metadata": {},
   "source": [
    "## t-LeNet"
   ]
  },
  {
   "cell_type": "code",
   "execution_count": null,
   "id": "detected-poultry",
   "metadata": {
    "scrolled": false
   },
   "outputs": [],
   "source": [
    "model = tlenet.Classifier_TLENET(\"results/tlenet\", True)\n",
    "history = model.fit(x_train, y_train_enc, x_test, y_test_enc, y_true)"
   ]
  },
  {
   "cell_type": "code",
   "execution_count": null,
   "id": "copyrighted-independence",
   "metadata": {},
   "outputs": [],
   "source": [
    "plot(history)"
   ]
  },
  {
   "cell_type": "markdown",
   "id": "relative-testimony",
   "metadata": {},
   "source": [
    "## MCNN"
   ]
  },
  {
   "cell_type": "code",
   "execution_count": null,
   "id": "abroad-kenya",
   "metadata": {
    "scrolled": false
   },
   "outputs": [],
   "source": [
    "model = mcnn.Classifier_MCNN(\"results/mcnn\", True)\n",
    "model.fit(x_train, y_train_enc, x_test, y_test_enc, y_true)"
   ]
  },
  {
   "cell_type": "markdown",
   "id": "preliminary-shift",
   "metadata": {},
   "source": [
    "## TWIESN"
   ]
  },
  {
   "cell_type": "code",
   "execution_count": null,
   "id": "brutal-poultry",
   "metadata": {
    "scrolled": true
   },
   "outputs": [],
   "source": [
    "model = twiesn.Classifier_TWIESN(\"results/twiesn\", True)\n",
    "model.fit(x_train, y_train_enc, x_test, y_test_enc, y_true)"
   ]
  },
  {
   "cell_type": "markdown",
   "id": "warming-passing",
   "metadata": {},
   "source": [
    "## FCN"
   ]
  },
  {
   "cell_type": "code",
   "execution_count": null,
   "id": "heard-wellington",
   "metadata": {},
   "outputs": [],
   "source": [
    "model = fcn.FCN((60, 23), 2).model\n",
    "history = model.fit(x_train, y_train, batch_size=int(min(x_train.shape[0]/10, 16)), epochs=1000, validation_data=(x_val,y_val))"
   ]
  },
  {
   "cell_type": "code",
   "execution_count": null,
   "id": "generous-copper",
   "metadata": {},
   "outputs": [],
   "source": [
    "plot(history)"
   ]
  },
  {
   "cell_type": "markdown",
   "id": "medical-monaco",
   "metadata": {},
   "source": [
    "## MCDCNN"
   ]
  },
  {
   "cell_type": "code",
   "execution_count": null,
   "id": "celtic-window",
   "metadata": {},
   "outputs": [],
   "source": [
    "classifier = mcdcnn.MCDCNN((60, 23), 2)\n",
    "model = classifier.model\n",
    "history = model.fit(classifier.prepare_input(x_train), y_train, batch_size=16, epochs=100, validation_data=(classifier.prepare_input(x_val),y_val))"
   ]
  },
  {
   "cell_type": "code",
   "execution_count": null,
   "id": "excited-houston",
   "metadata": {},
   "outputs": [],
   "source": [
    "plot(history)"
   ]
  },
  {
   "cell_type": "markdown",
   "id": "several-video",
   "metadata": {},
   "source": [
    "## MLP"
   ]
  },
  {
   "cell_type": "code",
   "execution_count": null,
   "id": "headed-welding",
   "metadata": {},
   "outputs": [],
   "source": [
    "model = mlp.MLP((60, 23), 2).model\n",
    "history = model.fit(x_train, y_train, batch_size=int(min(x_train.shape[0]/10, 16)), epochs=3000, validation_data=(x_val,y_val))"
   ]
  },
  {
   "cell_type": "code",
   "execution_count": null,
   "id": "rocky-farming",
   "metadata": {},
   "outputs": [],
   "source": [
    "plot(history)"
   ]
  },
  {
   "cell_type": "markdown",
   "id": "educational-spray",
   "metadata": {},
   "source": [
    "## CNN"
   ]
  },
  {
   "cell_type": "code",
   "execution_count": null,
   "id": "smaller-lawyer",
   "metadata": {},
   "outputs": [],
   "source": [
    "model = cnn.CNN((60, 23), 2).model\n",
    "history = model.fit(x_train, y_train_enc, batch_size=16, epochs=1500, validation_data=(x_test,y_test_enc))"
   ]
  },
  {
   "cell_type": "code",
   "execution_count": null,
   "id": "removed-buyer",
   "metadata": {},
   "outputs": [],
   "source": [
    "plot(history)"
   ]
  }
 ],
 "metadata": {
  "kernelspec": {
   "display_name": "Python 3",
   "language": "python",
   "name": "python3"
  },
  "language_info": {
   "codemirror_mode": {
    "name": "ipython",
    "version": 3
   },
   "file_extension": ".py",
   "mimetype": "text/x-python",
   "name": "python",
   "nbconvert_exporter": "python",
   "pygments_lexer": "ipython3",
   "version": "3.9.1"
  }
 },
 "nbformat": 4,
 "nbformat_minor": 5
}
